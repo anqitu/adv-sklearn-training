{
 "cells": [
  {
   "cell_type": "markdown",
   "metadata": {},
   "source": [
    "# Module 1 Text Feature Vectorization"
   ]
  },
  {
   "cell_type": "code",
   "execution_count": 7,
   "metadata": {},
   "outputs": [],
   "source": [
    "# import numpy as np\n",
    "# np.set_printoptions(precision=2)"
   ]
  },
  {
   "cell_type": "code",
   "execution_count": 46,
   "metadata": {},
   "outputs": [],
   "source": [
    "# corpus = [\n",
    "# 'It was the best of times',\n",
    "# 'It was the worst of times',\n",
    "# 'It was the age of wisdom',\n",
    "# 'It was the age age age of foolishness'\n",
    "# ]"
   ]
  },
  {
   "cell_type": "code",
   "execution_count": 1,
   "metadata": {},
   "outputs": [],
   "source": [
    "corpus = open(\"data/corpus.txt\",\"r\").readlines()"
   ]
  },
  {
   "cell_type": "code",
   "execution_count": 2,
   "metadata": {},
   "outputs": [
    {
     "data": {
      "text/plain": [
       "['It was the best of times\\n',\n",
       " 'It was the worst of times\\n',\n",
       " 'It was the age of wisdom\\n',\n",
       " 'It was the age age age of foolishness']"
      ]
     },
     "execution_count": 2,
     "metadata": {},
     "output_type": "execute_result"
    }
   ],
   "source": [
    "corpus"
   ]
  },
  {
   "cell_type": "markdown",
   "metadata": {},
   "source": [
    "## Count Vectorizer"
   ]
  },
  {
   "cell_type": "code",
   "execution_count": 3,
   "metadata": {},
   "outputs": [
    {
     "name": "stdout",
     "output_type": "stream",
     "text": [
      "['age', 'best', 'foolishness', 'it', 'of', 'the', 'times', 'was', 'wisdom', 'worst']\n"
     ]
    }
   ],
   "source": [
    "from sklearn.feature_extraction.text import CountVectorizer\n",
    "\n",
    "cv = CountVectorizer()\n",
    "\n",
    "X = cv.fit_transform(corpus)\n",
    "\n",
    "# cv.fit(corpus)\n",
    "# X = cv.transform(corpus)\n",
    "\n",
    "print(cv.get_feature_names())"
   ]
  },
  {
   "cell_type": "code",
   "execution_count": 4,
   "metadata": {},
   "outputs": [
    {
     "data": {
      "text/plain": [
       "array([[0, 1, 0, 1, 1, 1, 1, 1, 0, 0],\n",
       "       [0, 0, 0, 1, 1, 1, 1, 1, 0, 1],\n",
       "       [1, 0, 0, 1, 1, 1, 0, 1, 1, 0],\n",
       "       [3, 0, 1, 1, 1, 1, 0, 1, 0, 0]], dtype=int64)"
      ]
     },
     "execution_count": 4,
     "metadata": {},
     "output_type": "execute_result"
    }
   ],
   "source": [
    "X.toarray()"
   ]
  },
  {
   "cell_type": "code",
   "execution_count": 5,
   "metadata": {},
   "outputs": [
    {
     "name": "stdout",
     "output_type": "stream",
     "text": [
      "It was the best of times\n",
      "[0 1 0 1 1 1 1 1 0 0]\n",
      "\n",
      "It was the worst of times\n",
      "[0 0 0 1 1 1 1 1 0 1]\n",
      "\n",
      "It was the age of wisdom\n",
      "[1 0 0 1 1 1 0 1 1 0]\n",
      "\n",
      "It was the age age age of foolishness\n",
      "[3 0 1 1 1 1 0 1 0 0]\n",
      "\n"
     ]
    }
   ],
   "source": [
    "for text, vector in zip(corpus, X.toarray()):\n",
    "    print(text.strip())\n",
    "    print(vector)\n",
    "    print()"
   ]
  },
  {
   "cell_type": "markdown",
   "metadata": {},
   "source": [
    "## N-gram"
   ]
  },
  {
   "cell_type": "code",
   "execution_count": 6,
   "metadata": {},
   "outputs": [
    {
     "name": "stdout",
     "output_type": "stream",
     "text": [
      "['age', 'age age', 'age of', 'best', 'best of', 'foolishness', 'it', 'it was', 'of', 'of foolishness', 'of times', 'of wisdom', 'the', 'the age', 'the best', 'the worst', 'times', 'was', 'was the', 'wisdom', 'worst', 'worst of']\n"
     ]
    }
   ],
   "source": [
    "cv = CountVectorizer(ngram_range=(1, 2))\n",
    "X = cv.fit_transform(corpus)\n",
    "print(cv.get_feature_names())"
   ]
  },
  {
   "cell_type": "code",
   "execution_count": 7,
   "metadata": {},
   "outputs": [
    {
     "name": "stdout",
     "output_type": "stream",
     "text": [
      "It was the best of times\n",
      "[0 0 0 1 1 0 1 1 1 0 1 0 1 0 1 0 1 1 1 0 0 0]\n",
      "\n",
      "It was the worst of times\n",
      "[0 0 0 0 0 0 1 1 1 0 1 0 1 0 0 1 1 1 1 0 1 1]\n",
      "\n",
      "It was the age of wisdom\n",
      "[1 0 1 0 0 0 1 1 1 0 0 1 1 1 0 0 0 1 1 1 0 0]\n",
      "\n",
      "It was the age age age of foolishness\n",
      "[3 2 1 0 0 1 1 1 1 1 0 0 1 1 0 0 0 1 1 0 0 0]\n",
      "\n"
     ]
    }
   ],
   "source": [
    "for text, vector in zip(corpus, X.toarray()):\n",
    "    print(text.strip())\n",
    "    print(vector)\n",
    "    print()"
   ]
  },
  {
   "cell_type": "markdown",
   "metadata": {},
   "source": [
    "## TF-IDF Vectorizer"
   ]
  },
  {
   "cell_type": "code",
   "execution_count": 68,
   "metadata": {},
   "outputs": [
    {
     "name": "stdout",
     "output_type": "stream",
     "text": [
      "['age', 'best', 'foolishness', 'it', 'of', 'the', 'times', 'was', 'wisdom1', 'worst']\n"
     ]
    }
   ],
   "source": [
    "from sklearn.feature_extraction.text import TfidfVectorizer\n",
    "\n",
    "vectorizer = TfidfVectorizer()\n",
    "X = vectorizer.fit_transform(corpus)\n",
    "\n",
    "print(vectorizer.get_feature_names())"
   ]
  },
  {
   "cell_type": "code",
   "execution_count": 69,
   "metadata": {},
   "outputs": [
    {
     "name": "stdout",
     "output_type": "stream",
     "text": [
      "It was the best of times\n",
      "[0.   0.61 0.   0.32 0.32 0.32 0.48 0.32 0.   0.  ]\n",
      "\n",
      "It was the worst of times\n",
      "[0.   0.   0.   0.32 0.32 0.32 0.48 0.32 0.   0.61]\n",
      "\n",
      "It was the age of wisdom1\n",
      "[0.48 0.   0.   0.32 0.32 0.32 0.   0.32 0.61 0.  ]\n",
      "\n",
      "It was the age age age of foolishness\n",
      "[0.85 0.   0.36 0.19 0.19 0.19 0.   0.19 0.   0.  ]\n",
      "\n"
     ]
    }
   ],
   "source": [
    "for text, vector in zip(corpus, X.toarray()):\n",
    "    print(text.strip())\n",
    "    print(vector)\n",
    "    print()"
   ]
  },
  {
   "cell_type": "markdown",
   "metadata": {},
   "source": [
    "## Hash Vectorizer"
   ]
  },
  {
   "cell_type": "code",
   "execution_count": 84,
   "metadata": {},
   "outputs": [],
   "source": [
    "from sklearn.feature_extraction.text import HashingVectorizer\n",
    "\n",
    "vectorizer = HashingVectorizer(n_features=7)\n",
    "X = vectorizer.fit_transform(corpus)\n"
   ]
  },
  {
   "cell_type": "code",
   "execution_count": 85,
   "metadata": {},
   "outputs": [
    {
     "name": "stdout",
     "output_type": "stream",
     "text": [
      "It was the best of times\n",
      "[ 0.   0.  -0.5 -0.5  0.5  0.5  0. ]\n",
      "\n",
      "It was the worst of times\n",
      "[ 0.  -0.5  0.  -0.5  0.5  0.5  0. ]\n",
      "\n",
      "It was the age of wisdom1\n",
      "[0.  0.5 0.5 0.  0.5 0.5 0. ]\n",
      "\n",
      "It was the age age age of foolishness\n",
      "[0.   0.95 0.   0.   0.   0.32 0.  ]\n",
      "\n"
     ]
    }
   ],
   "source": [
    "for text, vector in zip(corpus, X.toarray()):\n",
    "    print(text.strip())\n",
    "    print(vector)\n",
    "    print()"
   ]
  },
  {
   "cell_type": "code",
   "execution_count": null,
   "metadata": {},
   "outputs": [],
   "source": []
  }
 ],
 "metadata": {
  "kernelspec": {
   "display_name": "Python 3.7.0",
   "language": "python",
   "name": "python3"
  },
  "language_info": {
   "codemirror_mode": {
    "name": "ipython",
    "version": 3
   },
   "file_extension": ".py",
   "mimetype": "text/x-python",
   "name": "python",
   "nbconvert_exporter": "python",
   "pygments_lexer": "ipython3",
   "version": "3.7.0"
  }
 },
 "nbformat": 4,
 "nbformat_minor": 2
}
