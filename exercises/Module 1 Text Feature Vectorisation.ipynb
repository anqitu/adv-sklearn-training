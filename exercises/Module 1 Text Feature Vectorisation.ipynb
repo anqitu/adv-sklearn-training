{
 "cells": [
  {
   "cell_type": "markdown",
   "metadata": {},
   "source": [
    "# Module 1 Text Feature Vectorization"
   ]
  },
  {
   "cell_type": "code",
   "execution_count": null,
   "metadata": {},
   "outputs": [],
   "source": [
    "# import numpy as np\n",
    "# np.set_printoptions(precision=2)"
   ]
  },
  {
   "cell_type": "code",
   "execution_count": null,
   "metadata": {},
   "outputs": [],
   "source": [
    "# corpus = [\n",
    "# 'It was the best of times',\n",
    "# 'It was the worst of times',\n",
    "# 'It was the age of wisdom',\n",
    "# 'It was the age age age of foolishness'\n",
    "# ]"
   ]
  },
  {
   "cell_type": "code",
   "execution_count": 1,
   "metadata": {},
   "outputs": [],
   "source": [
    "corpus = open(\"data/corpus.txt\",\"r\").readlines()"
   ]
  },
  {
   "cell_type": "code",
   "execution_count": 2,
   "metadata": {},
   "outputs": [
    {
     "data": {
      "text/plain": [
       "['It was the best of times\\n',\n",
       " 'It was the worst of times\\n',\n",
       " 'It was the age of wisdom\\n',\n",
       " 'It was the age age age of foolishness']"
      ]
     },
     "execution_count": 2,
     "metadata": {},
     "output_type": "execute_result"
    }
   ],
   "source": [
    "corpus"
   ]
  },
  {
   "cell_type": "markdown",
   "metadata": {},
   "source": [
    "## Count Vectorizer"
   ]
  },
  {
   "cell_type": "code",
   "execution_count": 3,
   "metadata": {},
   "outputs": [
    {
     "name": "stdout",
     "output_type": "stream",
     "text": [
      "['age', 'best', 'foolishness', 'it', 'of', 'the', 'times', 'was', 'wisdom', 'worst']\n"
     ]
    }
   ],
   "source": [
    "from sklearn.feature_extraction.text import CountVectorizer\n",
    "\n",
    "cv = CountVectorizer()\n",
    "\n",
    "X = cv.fit_transform(corpus)\n",
    "\n",
    "# cv.fit(corpus)\n",
    "# X = cv.transform(corpus)\n",
    "\n",
    "print(cv.get_feature_names())"
   ]
  },
  {
   "cell_type": "code",
   "execution_count": 6,
   "metadata": {},
   "outputs": [
    {
     "data": {
      "text/plain": [
       "array([[0, 1, 0, 1, 1, 1, 1, 1, 0, 0],\n",
       "       [0, 0, 0, 1, 1, 1, 1, 1, 0, 1],\n",
       "       [1, 0, 0, 1, 1, 1, 0, 1, 1, 0],\n",
       "       [3, 0, 1, 1, 1, 1, 0, 1, 0, 0]], dtype=int64)"
      ]
     },
     "execution_count": 6,
     "metadata": {},
     "output_type": "execute_result"
    }
   ],
   "source": [
    "X.toarray()"
   ]
  },
  {
   "cell_type": "code",
   "execution_count": 8,
   "metadata": {},
   "outputs": [
    {
     "data": {
      "text/html": [
       "<div>\n",
       "<style scoped>\n",
       "    .dataframe tbody tr th:only-of-type {\n",
       "        vertical-align: middle;\n",
       "    }\n",
       "\n",
       "    .dataframe tbody tr th {\n",
       "        vertical-align: top;\n",
       "    }\n",
       "\n",
       "    .dataframe thead th {\n",
       "        text-align: right;\n",
       "    }\n",
       "</style>\n",
       "<table border=\"1\" class=\"dataframe\">\n",
       "  <thead>\n",
       "    <tr style=\"text-align: right;\">\n",
       "      <th></th>\n",
       "      <th>age</th>\n",
       "      <th>best</th>\n",
       "      <th>foolishness</th>\n",
       "      <th>it</th>\n",
       "      <th>of</th>\n",
       "      <th>the</th>\n",
       "      <th>times</th>\n",
       "      <th>was</th>\n",
       "      <th>wisdom</th>\n",
       "      <th>worst</th>\n",
       "    </tr>\n",
       "  </thead>\n",
       "  <tbody>\n",
       "    <tr>\n",
       "      <td>0</td>\n",
       "      <td>0</td>\n",
       "      <td>1</td>\n",
       "      <td>0</td>\n",
       "      <td>1</td>\n",
       "      <td>1</td>\n",
       "      <td>1</td>\n",
       "      <td>1</td>\n",
       "      <td>1</td>\n",
       "      <td>0</td>\n",
       "      <td>0</td>\n",
       "    </tr>\n",
       "    <tr>\n",
       "      <td>1</td>\n",
       "      <td>0</td>\n",
       "      <td>0</td>\n",
       "      <td>0</td>\n",
       "      <td>1</td>\n",
       "      <td>1</td>\n",
       "      <td>1</td>\n",
       "      <td>1</td>\n",
       "      <td>1</td>\n",
       "      <td>0</td>\n",
       "      <td>1</td>\n",
       "    </tr>\n",
       "    <tr>\n",
       "      <td>2</td>\n",
       "      <td>1</td>\n",
       "      <td>0</td>\n",
       "      <td>0</td>\n",
       "      <td>1</td>\n",
       "      <td>1</td>\n",
       "      <td>1</td>\n",
       "      <td>0</td>\n",
       "      <td>1</td>\n",
       "      <td>1</td>\n",
       "      <td>0</td>\n",
       "    </tr>\n",
       "    <tr>\n",
       "      <td>3</td>\n",
       "      <td>3</td>\n",
       "      <td>0</td>\n",
       "      <td>1</td>\n",
       "      <td>1</td>\n",
       "      <td>1</td>\n",
       "      <td>1</td>\n",
       "      <td>0</td>\n",
       "      <td>1</td>\n",
       "      <td>0</td>\n",
       "      <td>0</td>\n",
       "    </tr>\n",
       "  </tbody>\n",
       "</table>\n",
       "</div>"
      ],
      "text/plain": [
       "   age  best  foolishness  it  of  the  times  was  wisdom  worst\n",
       "0    0     1            0   1   1    1      1    1       0      0\n",
       "1    0     0            0   1   1    1      1    1       0      1\n",
       "2    1     0            0   1   1    1      0    1       1      0\n",
       "3    3     0            1   1   1    1      0    1       0      0"
      ]
     },
     "execution_count": 8,
     "metadata": {},
     "output_type": "execute_result"
    }
   ],
   "source": [
    "import pandas as pd\n",
    "pd.DataFrame(X.toarray(), columns = cv.get_feature_names())"
   ]
  },
  {
   "cell_type": "code",
   "execution_count": 5,
   "metadata": {},
   "outputs": [
    {
     "name": "stdout",
     "output_type": "stream",
     "text": [
      "It was the best of times\n",
      "[0 1 0 1 1 1 1 1 0 0]\n",
      "\n",
      "It was the worst of times\n",
      "[0 0 0 1 1 1 1 1 0 1]\n",
      "\n",
      "It was the age of wisdom\n",
      "[1 0 0 1 1 1 0 1 1 0]\n",
      "\n",
      "It was the age age age of foolishness\n",
      "[3 0 1 1 1 1 0 1 0 0]\n",
      "\n"
     ]
    }
   ],
   "source": [
    "for text, vector in zip(corpus, X.toarray()):\n",
    "    print(text.strip())\n",
    "    print(vector)\n",
    "    print()"
   ]
  },
  {
   "cell_type": "markdown",
   "metadata": {},
   "source": [
    "## N-gram"
   ]
  },
  {
   "cell_type": "code",
   "execution_count": 11,
   "metadata": {},
   "outputs": [
    {
     "name": "stdout",
     "output_type": "stream",
     "text": [
      "['age', 'age age', 'age of', 'best', 'best of', 'foolishness', 'it', 'it was', 'of', 'of foolishness', 'of times', 'of wisdom', 'the', 'the age', 'the best', 'the worst', 'times', 'was', 'was the', 'wisdom', 'worst', 'worst of']\n"
     ]
    }
   ],
   "source": [
    "cv = CountVectorizer(ngram_range=(1, 2))\n",
    "X = cv.fit_transform(corpus)\n",
    "print(cv.get_feature_names())"
   ]
  },
  {
   "cell_type": "code",
   "execution_count": 14,
   "metadata": {},
   "outputs": [
    {
     "data": {
      "text/plain": [
       "array([[0.        , 0.60735961, 0.        , 0.31694544, 0.31694544,\n",
       "        0.31694544, 0.4788493 , 0.31694544, 0.        , 0.        ],\n",
       "       [0.        , 0.        , 0.        , 0.31694544, 0.31694544,\n",
       "        0.31694544, 0.4788493 , 0.31694544, 0.        , 0.60735961],\n",
       "       [0.4788493 , 0.        , 0.        , 0.31694544, 0.31694544,\n",
       "        0.31694544, 0.        , 0.31694544, 0.60735961, 0.        ],\n",
       "       [0.85328005, 0.        , 0.36075918, 0.18825911, 0.18825911,\n",
       "        0.18825911, 0.        , 0.18825911, 0.        , 0.        ]])"
      ]
     },
     "execution_count": 14,
     "metadata": {},
     "output_type": "execute_result"
    }
   ],
   "source": [
    "X.toarray()"
   ]
  },
  {
   "cell_type": "code",
   "execution_count": 10,
   "metadata": {},
   "outputs": [
    {
     "name": "stdout",
     "output_type": "stream",
     "text": [
      "It was the best of times\n",
      "[0 0 0 1 1 0 1 1 1 0 1 0 1 0 1 0 1 1 1 0 0 0]\n",
      "\n",
      "It was the worst of times\n",
      "[0 0 0 0 0 0 1 1 1 0 1 0 1 0 0 1 1 1 1 0 1 1]\n",
      "\n",
      "It was the age of wisdom\n",
      "[1 0 1 0 0 0 1 1 1 0 0 1 1 1 0 0 0 1 1 1 0 0]\n",
      "\n",
      "It was the age age age of foolishness\n",
      "[3 2 1 0 0 1 1 1 1 1 0 0 1 1 0 0 0 1 1 0 0 0]\n",
      "\n"
     ]
    }
   ],
   "source": [
    "for text, vector in zip(corpus, X.toarray()):\n",
    "    print(text.strip())\n",
    "    print(vector)\n",
    "    print()"
   ]
  },
  {
   "cell_type": "markdown",
   "metadata": {},
   "source": [
    "## TF-IDF Vectorizer"
   ]
  },
  {
   "cell_type": "code",
   "execution_count": 18,
   "metadata": {},
   "outputs": [
    {
     "name": "stdout",
     "output_type": "stream",
     "text": [
      "['age', 'best', 'foolishness', 'it', 'of', 'the', 'times', 'was', 'wisdom', 'worst']\n"
     ]
    }
   ],
   "source": [
    "from sklearn.feature_extraction.text import TfidfVectorizer\n",
    "\n",
    "vectorizer = TfidfVectorizer()\n",
    "X = vectorizer.fit_transform(corpus)\n",
    "\n",
    "print(vectorizer.get_feature_names())"
   ]
  },
  {
   "cell_type": "code",
   "execution_count": 19,
   "metadata": {},
   "outputs": [
    {
     "data": {
      "text/plain": [
       "array([[0.        , 0.60735961, 0.        , 0.31694544, 0.31694544,\n",
       "        0.31694544, 0.4788493 , 0.31694544, 0.        , 0.        ],\n",
       "       [0.        , 0.        , 0.        , 0.31694544, 0.31694544,\n",
       "        0.31694544, 0.4788493 , 0.31694544, 0.        , 0.60735961],\n",
       "       [0.4788493 , 0.        , 0.        , 0.31694544, 0.31694544,\n",
       "        0.31694544, 0.        , 0.31694544, 0.60735961, 0.        ],\n",
       "       [0.85328005, 0.        , 0.36075918, 0.18825911, 0.18825911,\n",
       "        0.18825911, 0.        , 0.18825911, 0.        , 0.        ]])"
      ]
     },
     "execution_count": 19,
     "metadata": {},
     "output_type": "execute_result"
    }
   ],
   "source": [
    "X.toarray()"
   ]
  },
  {
   "cell_type": "code",
   "execution_count": 20,
   "metadata": {},
   "outputs": [
    {
     "data": {
      "text/html": [
       "<div>\n",
       "<style scoped>\n",
       "    .dataframe tbody tr th:only-of-type {\n",
       "        vertical-align: middle;\n",
       "    }\n",
       "\n",
       "    .dataframe tbody tr th {\n",
       "        vertical-align: top;\n",
       "    }\n",
       "\n",
       "    .dataframe thead th {\n",
       "        text-align: right;\n",
       "    }\n",
       "</style>\n",
       "<table border=\"1\" class=\"dataframe\">\n",
       "  <thead>\n",
       "    <tr style=\"text-align: right;\">\n",
       "      <th></th>\n",
       "      <th>age</th>\n",
       "      <th>best</th>\n",
       "      <th>foolishness</th>\n",
       "      <th>it</th>\n",
       "      <th>of</th>\n",
       "      <th>the</th>\n",
       "      <th>times</th>\n",
       "      <th>was</th>\n",
       "      <th>wisdom</th>\n",
       "      <th>worst</th>\n",
       "    </tr>\n",
       "  </thead>\n",
       "  <tbody>\n",
       "    <tr>\n",
       "      <td>0</td>\n",
       "      <td>0.000000</td>\n",
       "      <td>0.60736</td>\n",
       "      <td>0.000000</td>\n",
       "      <td>0.316945</td>\n",
       "      <td>0.316945</td>\n",
       "      <td>0.316945</td>\n",
       "      <td>0.478849</td>\n",
       "      <td>0.316945</td>\n",
       "      <td>0.00000</td>\n",
       "      <td>0.00000</td>\n",
       "    </tr>\n",
       "    <tr>\n",
       "      <td>1</td>\n",
       "      <td>0.000000</td>\n",
       "      <td>0.00000</td>\n",
       "      <td>0.000000</td>\n",
       "      <td>0.316945</td>\n",
       "      <td>0.316945</td>\n",
       "      <td>0.316945</td>\n",
       "      <td>0.478849</td>\n",
       "      <td>0.316945</td>\n",
       "      <td>0.00000</td>\n",
       "      <td>0.60736</td>\n",
       "    </tr>\n",
       "    <tr>\n",
       "      <td>2</td>\n",
       "      <td>0.478849</td>\n",
       "      <td>0.00000</td>\n",
       "      <td>0.000000</td>\n",
       "      <td>0.316945</td>\n",
       "      <td>0.316945</td>\n",
       "      <td>0.316945</td>\n",
       "      <td>0.000000</td>\n",
       "      <td>0.316945</td>\n",
       "      <td>0.60736</td>\n",
       "      <td>0.00000</td>\n",
       "    </tr>\n",
       "    <tr>\n",
       "      <td>3</td>\n",
       "      <td>0.853280</td>\n",
       "      <td>0.00000</td>\n",
       "      <td>0.360759</td>\n",
       "      <td>0.188259</td>\n",
       "      <td>0.188259</td>\n",
       "      <td>0.188259</td>\n",
       "      <td>0.000000</td>\n",
       "      <td>0.188259</td>\n",
       "      <td>0.00000</td>\n",
       "      <td>0.00000</td>\n",
       "    </tr>\n",
       "  </tbody>\n",
       "</table>\n",
       "</div>"
      ],
      "text/plain": [
       "        age     best  foolishness        it        of       the     times  \\\n",
       "0  0.000000  0.60736     0.000000  0.316945  0.316945  0.316945  0.478849   \n",
       "1  0.000000  0.00000     0.000000  0.316945  0.316945  0.316945  0.478849   \n",
       "2  0.478849  0.00000     0.000000  0.316945  0.316945  0.316945  0.000000   \n",
       "3  0.853280  0.00000     0.360759  0.188259  0.188259  0.188259  0.000000   \n",
       "\n",
       "        was   wisdom    worst  \n",
       "0  0.316945  0.00000  0.00000  \n",
       "1  0.316945  0.00000  0.60736  \n",
       "2  0.316945  0.60736  0.00000  \n",
       "3  0.188259  0.00000  0.00000  "
      ]
     },
     "execution_count": 20,
     "metadata": {},
     "output_type": "execute_result"
    }
   ],
   "source": [
    "import pandas as pd\n",
    "pd.DataFrame(X.toarray(), columns = vectorizer.get_feature_names())"
   ]
  },
  {
   "cell_type": "code",
   "execution_count": null,
   "metadata": {},
   "outputs": [],
   "source": [
    "for text, vector in zip(corpus, X.toarray()):\n",
    "    print(text.strip())\n",
    "    print(vector)\n",
    "    print()"
   ]
  },
  {
   "cell_type": "markdown",
   "metadata": {},
   "source": [
    "## Hash Vectorizer"
   ]
  },
  {
   "cell_type": "code",
   "execution_count": 34,
   "metadata": {},
   "outputs": [],
   "source": [
    "from sklearn.feature_extraction.text import HashingVectorizer\n",
    "\n",
    "vectorizer = HashingVectorizer(n_features=10, \n",
    "                               norm = None, \n",
    "                               alternate_sign = False)\n",
    "X = vectorizer.fit_transform(corpus)"
   ]
  },
  {
   "cell_type": "code",
   "execution_count": 35,
   "metadata": {},
   "outputs": [
    {
     "name": "stdout",
     "output_type": "stream",
     "text": [
      "It was the best of times\n",
      "[0. 3. 0. 0. 0. 0. 1. 0. 2. 0.] \n",
      "\n",
      "It was the worst of times\n",
      "[0. 2. 0. 0. 1. 0. 1. 0. 2. 0.] \n",
      "\n",
      "It was the age of wisdom\n",
      "[0. 1. 0. 0. 0. 1. 1. 0. 2. 1.] \n",
      "\n",
      "It was the age age age of foolishness\n",
      "[1. 1. 0. 0. 0. 0. 1. 0. 2. 3.] \n",
      "\n"
     ]
    }
   ],
   "source": [
    "for text, vector in zip(corpus, X.toarray()):\n",
    "    print(text.strip())\n",
    "    print(vector, '\\n')"
   ]
  },
  {
   "cell_type": "code",
   "execution_count": 31,
   "metadata": {},
   "outputs": [],
   "source": [
    "from sklearn.feature_extraction.text import HashingVectorizer\n",
    "\n",
    "vectorizer = HashingVectorizer(n_features=10,\n",
    "                               norm = None,\n",
    "                               alternate_sign = True)\n",
    "X = vectorizer.fit_transform(corpus)"
   ]
  },
  {
   "cell_type": "code",
   "execution_count": 33,
   "metadata": {},
   "outputs": [
    {
     "name": "stdout",
     "output_type": "stream",
     "text": [
      "It was the best of times\n",
      "[ 0. -1.  0.  0.  0.  0.  1.  0.  0.  0.] \n",
      "\n",
      "It was the worst of times\n",
      "[ 0.  0.  0.  0. -1.  0.  1.  0.  0.  0.] \n",
      "\n",
      "It was the age of wisdom\n",
      "[ 0.  1.  0.  0.  0. -1.  1.  0.  0.  1.] \n",
      "\n",
      "It was the age age age of foolishness\n",
      "[-1.  1.  0.  0.  0.  0.  1.  0.  0.  3.] \n",
      "\n"
     ]
    }
   ],
   "source": [
    "for text, vector in zip(corpus, X.toarray()):\n",
    "    print(text.strip())\n",
    "    print(vector, '\\n')"
   ]
  },
  {
   "cell_type": "code",
   "execution_count": 36,
   "metadata": {},
   "outputs": [],
   "source": [
    "from sklearn.feature_extraction.text import HashingVectorizer\n",
    "\n",
    "vectorizer = HashingVectorizer(n_features=10,\n",
    "                               norm = 'l1',\n",
    "                               alternate_sign = True)\n",
    "X = vectorizer.fit_transform(corpus)"
   ]
  },
  {
   "cell_type": "code",
   "execution_count": 38,
   "metadata": {},
   "outputs": [
    {
     "name": "stdout",
     "output_type": "stream",
     "text": [
      "It was the best of times\n",
      "[ 0.  -0.5  0.   0.   0.   0.   0.5  0.   0.   0. ] \n",
      "\n",
      "It was the worst of times\n",
      "[ 0.   0.   0.   0.  -0.5  0.   0.5  0.   0.   0. ] \n",
      "\n",
      "It was the age of wisdom\n",
      "[ 0.    0.25  0.    0.    0.   -0.25  0.25  0.    0.    0.25] \n",
      "\n",
      "It was the age age age of foolishness\n",
      "[-0.16666667  0.16666667  0.          0.          0.          0.\n",
      "  0.16666667  0.          0.          0.5       ] \n",
      "\n"
     ]
    }
   ],
   "source": [
    "for text, vector in zip(corpus, X.toarray()):\n",
    "    print(text.strip())\n",
    "    print(vector, '\\n')"
   ]
  },
  {
   "cell_type": "code",
   "execution_count": 39,
   "metadata": {},
   "outputs": [],
   "source": [
    "from sklearn.feature_extraction.text import HashingVectorizer\n",
    "\n",
    "vectorizer = HashingVectorizer(n_features=10,\n",
    "                               norm = 'l2',\n",
    "                               alternate_sign = True)\n",
    "X = vectorizer.fit_transform(corpus)"
   ]
  },
  {
   "cell_type": "code",
   "execution_count": 41,
   "metadata": {},
   "outputs": [
    {
     "name": "stdout",
     "output_type": "stream",
     "text": [
      "It was the best of times\n",
      "[ 0.         -0.70710678  0.          0.          0.          0.\n",
      "  0.70710678  0.          0.          0.        ] \n",
      "\n",
      "It was the worst of times\n",
      "[ 0.          0.          0.          0.         -0.70710678  0.\n",
      "  0.70710678  0.          0.          0.        ] \n",
      "\n",
      "It was the age of wisdom\n",
      "[ 0.   0.5  0.   0.   0.  -0.5  0.5  0.   0.   0.5] \n",
      "\n",
      "It was the age age age of foolishness\n",
      "[-0.28867513  0.28867513  0.          0.          0.          0.\n",
      "  0.28867513  0.          0.          0.8660254 ] \n",
      "\n"
     ]
    }
   ],
   "source": [
    "for text, vector in zip(corpus, X.toarray()):\n",
    "    print(text.strip())\n",
    "    print(vector, '\\n')"
   ]
  },
  {
   "cell_type": "code",
   "execution_count": null,
   "metadata": {},
   "outputs": [],
   "source": []
  }
 ],
 "metadata": {
  "kernelspec": {
   "display_name": "Python 3.7.0",
   "language": "python",
   "name": "python3"
  },
  "language_info": {
   "codemirror_mode": {
    "name": "ipython",
    "version": 3
   },
   "file_extension": ".py",
   "mimetype": "text/x-python",
   "name": "python",
   "nbconvert_exporter": "python",
   "pygments_lexer": "ipython3",
   "version": "3.7.0"
  }
 },
 "nbformat": 4,
 "nbformat_minor": 2
}
