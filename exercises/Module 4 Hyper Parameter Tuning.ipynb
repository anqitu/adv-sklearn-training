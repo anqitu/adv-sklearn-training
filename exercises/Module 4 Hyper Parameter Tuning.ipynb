{
 "cells": [
  {
   "cell_type": "markdown",
   "metadata": {},
   "source": [
    "# Module 4 Hyper Parameter Tunning"
   ]
  },
  {
   "cell_type": "markdown",
   "metadata": {},
   "source": [
    "## GridSearchCV"
   ]
  },
  {
   "cell_type": "code",
   "execution_count": 2,
   "metadata": {},
   "outputs": [],
   "source": [
    "from sklearn import datasets\n",
    "from sklearn.model_selection import train_test_split\n",
    "from sklearn import svm\n",
    "\n",
    "iris = datasets.load_iris()\n",
    "X,y = iris.data, iris.target\n",
    "X_train, X_test, y_train, y_test = train_test_split(X, y, \n",
    "                                                    test_size=0.3, \n",
    "                                                    random_state=100,\n",
    "                                                   stratify = y)"
   ]
  },
  {
   "cell_type": "code",
   "execution_count": 3,
   "metadata": {},
   "outputs": [],
   "source": [
    "from sklearn.tree import DecisionTreeClassifier\n",
    "clf = DecisionTreeClassifier()"
   ]
  },
  {
   "cell_type": "code",
   "execution_count": 4,
   "metadata": {},
   "outputs": [
    {
     "data": {
      "text/plain": [
       "{'class_weight': None,\n",
       " 'criterion': 'gini',\n",
       " 'max_depth': None,\n",
       " 'max_features': None,\n",
       " 'max_leaf_nodes': None,\n",
       " 'min_impurity_decrease': 0.0,\n",
       " 'min_impurity_split': None,\n",
       " 'min_samples_leaf': 1,\n",
       " 'min_samples_split': 2,\n",
       " 'min_weight_fraction_leaf': 0.0,\n",
       " 'presort': False,\n",
       " 'random_state': None,\n",
       " 'splitter': 'best'}"
      ]
     },
     "execution_count": 4,
     "metadata": {},
     "output_type": "execute_result"
    }
   ],
   "source": [
    "clf.get_params()"
   ]
  },
  {
   "cell_type": "code",
   "execution_count": 10,
   "metadata": {},
   "outputs": [
    {
     "data": {
      "text/plain": [
       "0.95"
      ]
     },
     "execution_count": 10,
     "metadata": {},
     "output_type": "execute_result"
    }
   ],
   "source": [
    "clf.fit(X_train,y_train)\n",
    "clf.score(X_test, y_test)"
   ]
  },
  {
   "cell_type": "code",
   "execution_count": 5,
   "metadata": {},
   "outputs": [
    {
     "data": {
      "text/plain": [
       "GridSearchCV(cv=5, error_score='raise-deprecating',\n",
       "             estimator=DecisionTreeClassifier(class_weight=None,\n",
       "                                              criterion='gini', max_depth=None,\n",
       "                                              max_features=None,\n",
       "                                              max_leaf_nodes=None,\n",
       "                                              min_impurity_decrease=0.0,\n",
       "                                              min_impurity_split=None,\n",
       "                                              min_samples_leaf=1,\n",
       "                                              min_samples_split=2,\n",
       "                                              min_weight_fraction_leaf=0.0,\n",
       "                                              presort=False, random_state=None,\n",
       "                                              splitter='best'),\n",
       "             iid='warn', n_jobs=None,\n",
       "             param_grid={'max_depth': range(2, 8),\n",
       "                         'min_samples_split': range(2, 10)},\n",
       "             pre_dispatch='2*n_jobs', refit=True, return_train_score=False,\n",
       "             scoring=None, verbose=0)"
      ]
     },
     "execution_count": 5,
     "metadata": {},
     "output_type": "execute_result"
    }
   ],
   "source": [
    "from sklearn.model_selection import GridSearchCV\n",
    "#63*5\n",
    "param_grid = {'max_depth': range(2,8), #7\n",
    "              'min_samples_split': range(2,10) #9\n",
    "             }\n",
    "\n",
    "searcher = GridSearchCV(DecisionTreeClassifier(), param_grid, cv=5)\n",
    "searcher.fit(X_train,y_train)"
   ]
  },
  {
   "cell_type": "code",
   "execution_count": 7,
   "metadata": {},
   "outputs": [
    {
     "data": {
      "text/plain": [
       "({'max_depth': 2, 'min_samples_split': 2}, 0.9619047619047619)"
      ]
     },
     "execution_count": 7,
     "metadata": {},
     "output_type": "execute_result"
    }
   ],
   "source": [
    "searcher.best_params_, searcher.best_score_"
   ]
  },
  {
   "cell_type": "code",
   "execution_count": 9,
   "metadata": {},
   "outputs": [],
   "source": [
    "# import pandas as pd\n",
    "# pd.DataFrame(searcher.cv_results_)"
   ]
  },
  {
   "cell_type": "code",
   "execution_count": 12,
   "metadata": {},
   "outputs": [
    {
     "data": {
      "text/plain": [
       "DecisionTreeClassifier(class_weight=None, criterion='gini', max_depth=6,\n",
       "                       max_features=None, max_leaf_nodes=None,\n",
       "                       min_impurity_decrease=0.0, min_impurity_split=None,\n",
       "                       min_samples_leaf=1, min_samples_split=2,\n",
       "                       min_weight_fraction_leaf=0.0, presort=False,\n",
       "                       random_state=None, splitter='best')"
      ]
     },
     "execution_count": 12,
     "metadata": {},
     "output_type": "execute_result"
    }
   ],
   "source": [
    "searcher.best_estimator_"
   ]
  },
  {
   "cell_type": "code",
   "execution_count": 12,
   "metadata": {},
   "outputs": [
    {
     "data": {
      "text/plain": [
       "0.9333333333333333"
      ]
     },
     "execution_count": 12,
     "metadata": {},
     "output_type": "execute_result"
    }
   ],
   "source": [
    "searcher.best_estimator_.score(X_test, y_test)"
   ]
  },
  {
   "cell_type": "code",
   "execution_count": 13,
   "metadata": {},
   "outputs": [
    {
     "data": {
      "text/plain": [
       "0.9333333333333333"
      ]
     },
     "execution_count": 13,
     "metadata": {},
     "output_type": "execute_result"
    }
   ],
   "source": [
    "searcher.score(X_test, y_test)"
   ]
  },
  {
   "cell_type": "markdown",
   "metadata": {},
   "source": [
    "## RandomSearchCV"
   ]
  },
  {
   "cell_type": "code",
   "execution_count": 16,
   "metadata": {},
   "outputs": [
    {
     "data": {
      "text/plain": [
       "RandomizedSearchCV(cv=5, error_score='raise-deprecating',\n",
       "                   estimator=DecisionTreeClassifier(class_weight=None,\n",
       "                                                    criterion='gini',\n",
       "                                                    max_depth=None,\n",
       "                                                    max_features=None,\n",
       "                                                    max_leaf_nodes=None,\n",
       "                                                    min_impurity_decrease=0.0,\n",
       "                                                    min_impurity_split=None,\n",
       "                                                    min_samples_leaf=1,\n",
       "                                                    min_samples_split=2,\n",
       "                                                    min_weight_fraction_leaf=0.0,\n",
       "                                                    presort=False,\n",
       "                                                    random_state=None,\n",
       "                                                    splitter='best'),\n",
       "                   iid='warn', n_iter=10, n_jobs=None,\n",
       "                   param_distributions={'max_depth': range(2, 8),\n",
       "                                        'min_samples_split': range(2, 10)},\n",
       "                   pre_dispatch='2*n_jobs', random_state=None, refit=True,\n",
       "                   return_train_score=False, scoring=None, verbose=0)"
      ]
     },
     "execution_count": 16,
     "metadata": {},
     "output_type": "execute_result"
    }
   ],
   "source": [
    "from sklearn.model_selection import RandomizedSearchCV\n",
    "param_grid = {'max_depth': range(2,8), \n",
    "              'min_samples_split': range(2,10)}\n",
    "searcher = RandomizedSearchCV(DecisionTreeClassifier(), param_grid, cv=5)\n",
    "searcher.fit(X_train,y_train)"
   ]
  },
  {
   "cell_type": "code",
   "execution_count": 17,
   "metadata": {},
   "outputs": [
    {
     "data": {
      "text/html": [
       "<div>\n",
       "<style scoped>\n",
       "    .dataframe tbody tr th:only-of-type {\n",
       "        vertical-align: middle;\n",
       "    }\n",
       "\n",
       "    .dataframe tbody tr th {\n",
       "        vertical-align: top;\n",
       "    }\n",
       "\n",
       "    .dataframe thead th {\n",
       "        text-align: right;\n",
       "    }\n",
       "</style>\n",
       "<table border=\"1\" class=\"dataframe\">\n",
       "  <thead>\n",
       "    <tr style=\"text-align: right;\">\n",
       "      <th></th>\n",
       "      <th>mean_fit_time</th>\n",
       "      <th>std_fit_time</th>\n",
       "      <th>mean_score_time</th>\n",
       "      <th>std_score_time</th>\n",
       "      <th>param_min_samples_split</th>\n",
       "      <th>param_max_depth</th>\n",
       "      <th>params</th>\n",
       "      <th>split0_test_score</th>\n",
       "      <th>split1_test_score</th>\n",
       "      <th>split2_test_score</th>\n",
       "      <th>split3_test_score</th>\n",
       "      <th>split4_test_score</th>\n",
       "      <th>mean_test_score</th>\n",
       "      <th>std_test_score</th>\n",
       "      <th>rank_test_score</th>\n",
       "    </tr>\n",
       "  </thead>\n",
       "  <tbody>\n",
       "    <tr>\n",
       "      <td>0</td>\n",
       "      <td>0.000730</td>\n",
       "      <td>0.000181</td>\n",
       "      <td>0.000368</td>\n",
       "      <td>0.000022</td>\n",
       "      <td>8</td>\n",
       "      <td>6</td>\n",
       "      <td>{'min_samples_split': 8, 'max_depth': 6}</td>\n",
       "      <td>0.857143</td>\n",
       "      <td>1.0</td>\n",
       "      <td>0.952381</td>\n",
       "      <td>0.904762</td>\n",
       "      <td>0.952381</td>\n",
       "      <td>0.933333</td>\n",
       "      <td>0.048562</td>\n",
       "      <td>3</td>\n",
       "    </tr>\n",
       "    <tr>\n",
       "      <td>1</td>\n",
       "      <td>0.000792</td>\n",
       "      <td>0.000299</td>\n",
       "      <td>0.000391</td>\n",
       "      <td>0.000022</td>\n",
       "      <td>5</td>\n",
       "      <td>3</td>\n",
       "      <td>{'min_samples_split': 5, 'max_depth': 3}</td>\n",
       "      <td>0.857143</td>\n",
       "      <td>1.0</td>\n",
       "      <td>0.952381</td>\n",
       "      <td>0.904762</td>\n",
       "      <td>0.952381</td>\n",
       "      <td>0.933333</td>\n",
       "      <td>0.048562</td>\n",
       "      <td>3</td>\n",
       "    </tr>\n",
       "    <tr>\n",
       "      <td>2</td>\n",
       "      <td>0.000779</td>\n",
       "      <td>0.000538</td>\n",
       "      <td>0.000329</td>\n",
       "      <td>0.000063</td>\n",
       "      <td>5</td>\n",
       "      <td>6</td>\n",
       "      <td>{'min_samples_split': 5, 'max_depth': 6}</td>\n",
       "      <td>0.857143</td>\n",
       "      <td>1.0</td>\n",
       "      <td>0.952381</td>\n",
       "      <td>0.904762</td>\n",
       "      <td>0.952381</td>\n",
       "      <td>0.933333</td>\n",
       "      <td>0.048562</td>\n",
       "      <td>3</td>\n",
       "    </tr>\n",
       "    <tr>\n",
       "      <td>3</td>\n",
       "      <td>0.000507</td>\n",
       "      <td>0.000125</td>\n",
       "      <td>0.000511</td>\n",
       "      <td>0.000332</td>\n",
       "      <td>4</td>\n",
       "      <td>7</td>\n",
       "      <td>{'min_samples_split': 4, 'max_depth': 7}</td>\n",
       "      <td>0.857143</td>\n",
       "      <td>1.0</td>\n",
       "      <td>0.952381</td>\n",
       "      <td>0.904762</td>\n",
       "      <td>0.952381</td>\n",
       "      <td>0.933333</td>\n",
       "      <td>0.048562</td>\n",
       "      <td>3</td>\n",
       "    </tr>\n",
       "    <tr>\n",
       "      <td>4</td>\n",
       "      <td>0.000493</td>\n",
       "      <td>0.000079</td>\n",
       "      <td>0.000332</td>\n",
       "      <td>0.000030</td>\n",
       "      <td>4</td>\n",
       "      <td>5</td>\n",
       "      <td>{'min_samples_split': 4, 'max_depth': 5}</td>\n",
       "      <td>0.857143</td>\n",
       "      <td>1.0</td>\n",
       "      <td>0.952381</td>\n",
       "      <td>0.904762</td>\n",
       "      <td>0.952381</td>\n",
       "      <td>0.933333</td>\n",
       "      <td>0.048562</td>\n",
       "      <td>3</td>\n",
       "    </tr>\n",
       "    <tr>\n",
       "      <td>5</td>\n",
       "      <td>0.000626</td>\n",
       "      <td>0.000048</td>\n",
       "      <td>0.000777</td>\n",
       "      <td>0.000550</td>\n",
       "      <td>3</td>\n",
       "      <td>2</td>\n",
       "      <td>{'min_samples_split': 3, 'max_depth': 2}</td>\n",
       "      <td>0.952381</td>\n",
       "      <td>1.0</td>\n",
       "      <td>0.952381</td>\n",
       "      <td>0.952381</td>\n",
       "      <td>0.952381</td>\n",
       "      <td>0.961905</td>\n",
       "      <td>0.019048</td>\n",
       "      <td>1</td>\n",
       "    </tr>\n",
       "    <tr>\n",
       "      <td>6</td>\n",
       "      <td>0.000643</td>\n",
       "      <td>0.000189</td>\n",
       "      <td>0.000491</td>\n",
       "      <td>0.000231</td>\n",
       "      <td>9</td>\n",
       "      <td>6</td>\n",
       "      <td>{'min_samples_split': 9, 'max_depth': 6}</td>\n",
       "      <td>0.857143</td>\n",
       "      <td>1.0</td>\n",
       "      <td>0.952381</td>\n",
       "      <td>0.904762</td>\n",
       "      <td>0.952381</td>\n",
       "      <td>0.933333</td>\n",
       "      <td>0.048562</td>\n",
       "      <td>3</td>\n",
       "    </tr>\n",
       "    <tr>\n",
       "      <td>7</td>\n",
       "      <td>0.000784</td>\n",
       "      <td>0.000602</td>\n",
       "      <td>0.000243</td>\n",
       "      <td>0.000069</td>\n",
       "      <td>7</td>\n",
       "      <td>5</td>\n",
       "      <td>{'min_samples_split': 7, 'max_depth': 5}</td>\n",
       "      <td>0.857143</td>\n",
       "      <td>1.0</td>\n",
       "      <td>0.952381</td>\n",
       "      <td>0.904762</td>\n",
       "      <td>0.952381</td>\n",
       "      <td>0.933333</td>\n",
       "      <td>0.048562</td>\n",
       "      <td>3</td>\n",
       "    </tr>\n",
       "    <tr>\n",
       "      <td>8</td>\n",
       "      <td>0.000650</td>\n",
       "      <td>0.000156</td>\n",
       "      <td>0.000561</td>\n",
       "      <td>0.000200</td>\n",
       "      <td>6</td>\n",
       "      <td>3</td>\n",
       "      <td>{'min_samples_split': 6, 'max_depth': 3}</td>\n",
       "      <td>0.857143</td>\n",
       "      <td>1.0</td>\n",
       "      <td>0.952381</td>\n",
       "      <td>0.952381</td>\n",
       "      <td>0.952381</td>\n",
       "      <td>0.942857</td>\n",
       "      <td>0.046657</td>\n",
       "      <td>2</td>\n",
       "    </tr>\n",
       "    <tr>\n",
       "      <td>9</td>\n",
       "      <td>0.000846</td>\n",
       "      <td>0.000618</td>\n",
       "      <td>0.000359</td>\n",
       "      <td>0.000115</td>\n",
       "      <td>6</td>\n",
       "      <td>5</td>\n",
       "      <td>{'min_samples_split': 6, 'max_depth': 5}</td>\n",
       "      <td>0.857143</td>\n",
       "      <td>1.0</td>\n",
       "      <td>0.952381</td>\n",
       "      <td>0.904762</td>\n",
       "      <td>0.952381</td>\n",
       "      <td>0.933333</td>\n",
       "      <td>0.048562</td>\n",
       "      <td>3</td>\n",
       "    </tr>\n",
       "  </tbody>\n",
       "</table>\n",
       "</div>"
      ],
      "text/plain": [
       "   mean_fit_time  std_fit_time  mean_score_time  std_score_time  \\\n",
       "0       0.000730      0.000181         0.000368        0.000022   \n",
       "1       0.000792      0.000299         0.000391        0.000022   \n",
       "2       0.000779      0.000538         0.000329        0.000063   \n",
       "3       0.000507      0.000125         0.000511        0.000332   \n",
       "4       0.000493      0.000079         0.000332        0.000030   \n",
       "5       0.000626      0.000048         0.000777        0.000550   \n",
       "6       0.000643      0.000189         0.000491        0.000231   \n",
       "7       0.000784      0.000602         0.000243        0.000069   \n",
       "8       0.000650      0.000156         0.000561        0.000200   \n",
       "9       0.000846      0.000618         0.000359        0.000115   \n",
       "\n",
       "  param_min_samples_split param_max_depth  \\\n",
       "0                       8               6   \n",
       "1                       5               3   \n",
       "2                       5               6   \n",
       "3                       4               7   \n",
       "4                       4               5   \n",
       "5                       3               2   \n",
       "6                       9               6   \n",
       "7                       7               5   \n",
       "8                       6               3   \n",
       "9                       6               5   \n",
       "\n",
       "                                     params  split0_test_score  \\\n",
       "0  {'min_samples_split': 8, 'max_depth': 6}           0.857143   \n",
       "1  {'min_samples_split': 5, 'max_depth': 3}           0.857143   \n",
       "2  {'min_samples_split': 5, 'max_depth': 6}           0.857143   \n",
       "3  {'min_samples_split': 4, 'max_depth': 7}           0.857143   \n",
       "4  {'min_samples_split': 4, 'max_depth': 5}           0.857143   \n",
       "5  {'min_samples_split': 3, 'max_depth': 2}           0.952381   \n",
       "6  {'min_samples_split': 9, 'max_depth': 6}           0.857143   \n",
       "7  {'min_samples_split': 7, 'max_depth': 5}           0.857143   \n",
       "8  {'min_samples_split': 6, 'max_depth': 3}           0.857143   \n",
       "9  {'min_samples_split': 6, 'max_depth': 5}           0.857143   \n",
       "\n",
       "   split1_test_score  split2_test_score  split3_test_score  split4_test_score  \\\n",
       "0                1.0           0.952381           0.904762           0.952381   \n",
       "1                1.0           0.952381           0.904762           0.952381   \n",
       "2                1.0           0.952381           0.904762           0.952381   \n",
       "3                1.0           0.952381           0.904762           0.952381   \n",
       "4                1.0           0.952381           0.904762           0.952381   \n",
       "5                1.0           0.952381           0.952381           0.952381   \n",
       "6                1.0           0.952381           0.904762           0.952381   \n",
       "7                1.0           0.952381           0.904762           0.952381   \n",
       "8                1.0           0.952381           0.952381           0.952381   \n",
       "9                1.0           0.952381           0.904762           0.952381   \n",
       "\n",
       "   mean_test_score  std_test_score  rank_test_score  \n",
       "0         0.933333        0.048562                3  \n",
       "1         0.933333        0.048562                3  \n",
       "2         0.933333        0.048562                3  \n",
       "3         0.933333        0.048562                3  \n",
       "4         0.933333        0.048562                3  \n",
       "5         0.961905        0.019048                1  \n",
       "6         0.933333        0.048562                3  \n",
       "7         0.933333        0.048562                3  \n",
       "8         0.942857        0.046657                2  \n",
       "9         0.933333        0.048562                3  "
      ]
     },
     "execution_count": 17,
     "metadata": {},
     "output_type": "execute_result"
    }
   ],
   "source": [
    "import pandas as pd\n",
    "pd.DataFrame(searcher.cv_results_)"
   ]
  },
  {
   "cell_type": "code",
   "execution_count": 15,
   "metadata": {},
   "outputs": [
    {
     "name": "stdout",
     "output_type": "stream",
     "text": [
      "{'min_samples_split': 4, 'max_depth': 2}\n",
      "0.9619047619047619\n"
     ]
    }
   ],
   "source": [
    "print(searcher.best_params_)    \n",
    "print(searcher.best_score_)"
   ]
  },
  {
   "cell_type": "code",
   "execution_count": 31,
   "metadata": {},
   "outputs": [
    {
     "data": {
      "text/plain": [
       "0.95"
      ]
     },
     "execution_count": 31,
     "metadata": {},
     "output_type": "execute_result"
    }
   ],
   "source": [
    "searcher.score(X_test, y_test)"
   ]
  },
  {
   "cell_type": "markdown",
   "metadata": {},
   "source": [
    "## Search on Pipeline Estimator"
   ]
  },
  {
   "cell_type": "code",
   "execution_count": 22,
   "metadata": {},
   "outputs": [],
   "source": [
    "from sklearn.pipeline import Pipeline\n",
    "from sklearn.preprocessing import StandardScaler\n",
    "from sklearn.decomposition import PCA\n",
    "from sklearn.tree import DecisionTreeClassifier\n",
    "\n",
    "pipe = Pipeline([('scaler', StandardScaler()),\n",
    "                 ('pca', PCA()),\n",
    "                 ('tree', DecisionTreeClassifier())])"
   ]
  },
  {
   "cell_type": "code",
   "execution_count": 23,
   "metadata": {},
   "outputs": [],
   "source": [
    "# pipe"
   ]
  },
  {
   "cell_type": "code",
   "execution_count": 24,
   "metadata": {},
   "outputs": [
    {
     "data": {
      "text/plain": [
       "RandomizedSearchCV(cv=5, error_score='raise-deprecating',\n",
       "                   estimator=Pipeline(memory=None,\n",
       "                                      steps=[('scaler',\n",
       "                                              StandardScaler(copy=True,\n",
       "                                                             with_mean=True,\n",
       "                                                             with_std=True)),\n",
       "                                             ('pca',\n",
       "                                              PCA(copy=True,\n",
       "                                                  iterated_power='auto',\n",
       "                                                  n_components=None,\n",
       "                                                  random_state=None,\n",
       "                                                  svd_solver='auto', tol=0.0,\n",
       "                                                  whiten=False)),\n",
       "                                             ('tree',\n",
       "                                              DecisionTreeClassifier(class_weight=None,\n",
       "                                                                     criterion='gini',\n",
       "                                                                     max_...\n",
       "                                                                     min_samples_split=2,\n",
       "                                                                     min_weight_fraction_leaf=0.0,\n",
       "                                                                     presort=False,\n",
       "                                                                     random_state=None,\n",
       "                                                                     splitter='best'))],\n",
       "                                      verbose=False),\n",
       "                   iid='warn', n_iter=10, n_jobs=None,\n",
       "                   param_distributions={'pca__n_components': [1, 2, 3, 4],\n",
       "                                        'tree__max_depth': range(2, 8),\n",
       "                                        'tree__min_samples_split': range(2, 10)},\n",
       "                   pre_dispatch='2*n_jobs', random_state=None, refit=True,\n",
       "                   return_train_score=False, scoring=None, verbose=0)"
      ]
     },
     "execution_count": 24,
     "metadata": {},
     "output_type": "execute_result"
    }
   ],
   "source": [
    "from sklearn.model_selection import RandomizedSearchCV\n",
    "param_grid = {'pca__n_components': [1,2,3,4],\n",
    "              'tree__max_depth': range(2,8), \n",
    "              'tree__min_samples_split':range(2,10)}\n",
    "\n",
    "searcher = RandomizedSearchCV(pipe, param_grid, cv=5)\n",
    "searcher.fit(X_train,y_train)"
   ]
  },
  {
   "cell_type": "code",
   "execution_count": 26,
   "metadata": {},
   "outputs": [
    {
     "data": {
      "text/plain": [
       "{'tree__min_samples_split': 7, 'tree__max_depth': 7, 'pca__n_components': 1}"
      ]
     },
     "execution_count": 26,
     "metadata": {},
     "output_type": "execute_result"
    }
   ],
   "source": [
    "searcher.best_params_"
   ]
  },
  {
   "cell_type": "code",
   "execution_count": 27,
   "metadata": {},
   "outputs": [
    {
     "data": {
      "text/plain": [
       "0.9238095238095239"
      ]
     },
     "execution_count": 27,
     "metadata": {},
     "output_type": "execute_result"
    }
   ],
   "source": [
    "searcher.best_score_"
   ]
  },
  {
   "cell_type": "code",
   "execution_count": 28,
   "metadata": {},
   "outputs": [
    {
     "data": {
      "text/plain": [
       "0.8888888888888888"
      ]
     },
     "execution_count": 28,
     "metadata": {},
     "output_type": "execute_result"
    }
   ],
   "source": [
    "searcher.score(X_test, y_test)"
   ]
  },
  {
   "cell_type": "code",
   "execution_count": null,
   "metadata": {},
   "outputs": [],
   "source": []
  }
 ],
 "metadata": {
  "kernelspec": {
   "display_name": "Python 3.7.0",
   "language": "python",
   "name": "python3"
  },
  "language_info": {
   "codemirror_mode": {
    "name": "ipython",
    "version": 3
   },
   "file_extension": ".py",
   "mimetype": "text/x-python",
   "name": "python",
   "nbconvert_exporter": "python",
   "pygments_lexer": "ipython3",
   "version": "3.7.0"
  }
 },
 "nbformat": 4,
 "nbformat_minor": 2
}
